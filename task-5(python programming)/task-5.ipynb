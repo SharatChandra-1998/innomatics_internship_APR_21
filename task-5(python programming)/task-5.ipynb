{
 "cells": [
  {
   "cell_type": "code",
   "execution_count": 3,
   "metadata": {},
   "outputs": [
    {
     "name": "stdout",
     "output_type": "stream",
     "text": [
      "4\n",
      "4.000\n",
      "True\n",
      "-1.00\n",
      "True\n",
      "+4.55\n",
      "True\n",
      "sfgdhth\n",
      "False\n"
     ]
    }
   ],
   "source": [
    "#detect floting point number\n",
    "\n",
    "import re\n",
    "a=int(input().strip())\n",
    "pattern='^[+-]?[0-9]*\\.[0-9]+$'\n",
    "for i in range(a):\n",
    "    print(bool(re.match(pattern, input())))"
   ]
  },
  {
   "cell_type": "code",
   "execution_count": 5,
   "metadata": {},
   "outputs": [
    {
     "name": "stdout",
     "output_type": "stream",
     "text": [
      "100,000,000.000\n",
      "100\n",
      "000\n",
      "000\n",
      "000\n"
     ]
    }
   ],
   "source": [
    "#Re.split()\n",
    "regex_=r\"[.,]+\"\n",
    "print(\"\\n\".join(re.split(regex_, input())))"
   ]
  },
  {
   "cell_type": "code",
   "execution_count": 14,
   "metadata": {},
   "outputs": [
    {
     "name": "stdout",
     "output_type": "stream",
     "text": [
      "12345678910111213141516171820212223\n",
      "1\n"
     ]
    }
   ],
   "source": [
    "#group(), groups() & groupdict()\n",
    "\n",
    "import re\n",
    "a = re.search(r\"([a-zA-Z1-9])\\1\",input())\n",
    "print(a.group(1) if a else -1)"
   ]
  },
  {
   "cell_type": "code",
   "execution_count": 15,
   "metadata": {},
   "outputs": [
    {
     "name": "stdout",
     "output_type": "stream",
     "text": [
      "rabcdeefgyYhFjkIoomnpOeorteeeeet\n",
      "ee\n",
      "Ioo\n",
      "Oeo\n",
      "eeeee\n"
     ]
    }
   ],
   "source": [
    "#Re.findall()& Re.finditer()\n",
    "\n",
    "import re\n",
    "a=re.findall(r'(?<=[^aeiouAEIOU])[aeiouAEIOU]{2,}(?=[^aeiouAEIOU])',input())\n",
    "if a:\n",
    "    for i in a:\n",
    "        print(i)\n",
    "else:\n",
    "    print(-1)"
   ]
  },
  {
   "cell_type": "code",
   "execution_count": 19,
   "metadata": {},
   "outputs": [
    {
     "name": "stdout",
     "output_type": "stream",
     "text": [
      "aaadaa\n",
      "aa\n",
      "(0, 1)\n",
      "(1, 2)\n",
      "(4, 5)\n"
     ]
    }
   ],
   "source": [
    "#Re.start() & Re.end()\n",
    "\n",
    "import re\n",
    "a,x=input(), input()\n",
    "m=re.finditer(r'(?=(' + x + '))', a)\n",
    "anyatch= False\n",
    "for match in m:\n",
    "    anymatch =True\n",
    "    print((match.start(1),match.end(1) - 1))\n",
    "if anymatch == False:\n",
    "    print((-1, -1))"
   ]
  },
  {
   "cell_type": "code",
   "execution_count": 8,
   "metadata": {},
   "outputs": [
    {
     "name": "stdout",
     "output_type": "stream",
     "text": [
      "11\n",
      "a = 1;\n",
      "a = 1;\n",
      "b = input();\n",
      "b = input();\n",
      "if a + b > 0 && a - b < 0:\n",
      "if a + b > 0 and a - b < 0:\n",
      "   start()\n",
      "   start()\n",
      "elif a*b > 10 || a/b < 1:\n",
      "elif a*b > 10 or a/b < 1:\n",
      " stop()\n",
      " stop()\n",
      "print set(list(a)) | set(list(b)\n",
      "print set(list(a)) | set(list(b)\n",
      "#Note do not change &&& or ||| or & or \n",
      "#Note do not change &&& or ||| or & or \n",
      "#Only change those '&&' which have space on both sides.\n",
      "#Only change those '&&' which have space on both sides.\n",
      "#Only change those '|| which have space on both sides\n",
      "#Only change those '|| which have space on both sides\n",
      "stop()\n",
      "stop()\n"
     ]
    }
   ],
   "source": [
    "#regex substitution\n",
    "import re\n",
    "\n",
    "def change(match):\n",
    "    symb = match.group(0)\n",
    "    \n",
    "    if symb == \"&&\":\n",
    "        return \"and\"\n",
    "    elif symb == \"||\":\n",
    "        return \"or\"\n",
    "    \n",
    "n = int(input().strip())\n",
    "for _ in range(n):\n",
    "    print(re.sub(r'(?<= )(&&|\\|\\|)(?= )', change, input()))"
   ]
  },
  {
   "cell_type": "code",
   "execution_count": 12,
   "metadata": {},
   "outputs": [
    {
     "name": "stdout",
     "output_type": "stream",
     "text": [
      "CDXxI\n",
      "False\n"
     ]
    }
   ],
   "source": [
    "#validating Roman\n",
    "\n",
    "import re\n",
    "pattern = '^(?=[MDCLXVI])M{0,3}(CM|CD|D?C{0,3})(XC|XL|L?X{0,3})(IX|IV|V?I{0,3})$'\n",
    "roman = str(input())\n",
    "if re.search(pattern, roman):\n",
    "    print('True')\n",
    "else:\n",
    "    print('False')"
   ]
  },
  {
   "cell_type": "code",
   "execution_count": 13,
   "metadata": {},
   "outputs": [
    {
     "name": "stdout",
     "output_type": "stream",
     "text": [
      "2\n",
      "9110748615\n",
      "YES\n",
      "8440445187\n",
      "YES\n"
     ]
    }
   ],
   "source": [
    "#Validating phone numbers\n",
    "\n",
    "import re\n",
    "a=int(input())\n",
    "for i in range(a):\n",
    "    num=input()\n",
    "    if (len(num)==10 and num.isdigit()):\n",
    "        output = re.findall(r\"^[789]\\d{9}$\",num)\n",
    "        if (len(output)==1):\n",
    "            print(\"YES\")\n",
    "        else:\n",
    "            print(\"NO\")\n",
    "    else:\n",
    "        print(\"NO\")"
   ]
  },
  {
   "cell_type": "code",
   "execution_count": 18,
   "metadata": {},
   "outputs": [
    {
     "name": "stdout",
     "output_type": "stream",
     "text": [
      "2\n",
      "DEXTER <dexter@hotmail.com>\n",
      "DEXTER <dexter@hotmail.com>\n",
      "VIRUS <virus!@variable.:p>\n"
     ]
    }
   ],
   "source": [
    "#validating and parsing email address\n",
    "\n",
    "import re\n",
    "a= int(input())\n",
    "for i in range(a):\n",
    "    name, email=input().split()\n",
    "    patterns = \"<[a-z][a-zA-Z0-9\\-\\.\\_]+@[a-zA-Z]+\\.[a-zA-Z]{1,3}>\"\n",
    "    if bool(re.match(patterns, email)):\n",
    "        print(name,email)"
   ]
  },
  {
   "cell_type": "code",
   "execution_count": 19,
   "metadata": {},
   "outputs": [
    {
     "name": "stdout",
     "output_type": "stream",
     "text": [
      "11\n",
      "#BED\n",
      "{\n",
      "color: #FfFdF8; background-color:#aef;\n",
      "#FfFdF8\n",
      "#aef\n",
      "font-size: 123px;\n",
      "}\n",
      "#Cab\n",
      "{\n",
      "background-color: #ABC;\n",
      "#ABC\n",
      " border: 2px dashed #fff;\n",
      "#fff\n",
      "}\n",
      "stop()\n"
     ]
    }
   ],
   "source": [
    "#hex color code\n",
    "\n",
    "a=int(input())\n",
    "c=False\n",
    "for i in range(a):\n",
    "    s=input()\n",
    "    if '{'in s:\n",
    "        c=True\n",
    "    elif '}' in s:\n",
    "        c=False\n",
    "    elif c:\n",
    "        for color in re.findall('#[0-9a-fA-F]{3,6}',s):\n",
    "            print(color)"
   ]
  },
  {
   "cell_type": "code",
   "execution_count": 31,
   "metadata": {},
   "outputs": [
    {
     "name": "stdout",
     "output_type": "stream",
     "text": [
      "2\n",
      "B1CD102354\n",
      "Invalid\n",
      "B1CDEF2354\n",
      "Valid\n"
     ]
    }
   ],
   "source": [
    "import re\n",
    "for _ in range(int(input())):\n",
    "    uid = input()\n",
    "    uid = \"\".join(sorted(uid))\n",
    "    if (re.search(r\"[A-Z]{2}\",uid) and #2 uppercase alphabets\n",
    "        re.search(r\"\\d{3}\",uid) and #3+ digits\n",
    "        not re.search(r\"[^A-Za-z0-9]\",uid) and #no nonalphanumeric\n",
    "        not re.search(r\"(\\w)\\1\",uid) and #no repetition\n",
    "        len(uid) == 10): #10 characters long\n",
    "        print(\"Valid\")\n",
    "    else:\n",
    "        print(\"Invalid\")"
   ]
  },
  {
   "cell_type": "code",
   "execution_count": 1,
   "metadata": {},
   "outputs": [
    {
     "name": "stdout",
     "output_type": "stream",
     "text": [
      "2\n",
      "B1CD102354\n",
      "INVALID\n",
      "B1CDEF2354\n",
      "VALID\n"
     ]
    }
   ],
   "source": [
    "#validating UID\n",
    "\n",
    "import re\n",
    "for i in range(int(input())):\n",
    "    uid = input()\n",
    "    uid=\"\".join(sorted(uid))\n",
    "    if (re.search(r\"[A-Z]{2}\",uid) and re.search(r\"\\d{3}\",uid) and not re.search(r\"[^A-Za_z0-9]\",uid) and not re.search(r\"(\\w)\\1\",uid) and len(uid) == 10):\n",
    "        print(\"VALID\")\n",
    "    else:\n",
    "        print(\"INVALID\")"
   ]
  },
  {
   "cell_type": "code",
   "execution_count": 4,
   "metadata": {},
   "outputs": [
    {
     "name": "stdout",
     "output_type": "stream",
     "text": [
      "6\n",
      "4123456789123456\n",
      "valid\n",
      "5123-4567-8912-3456\n",
      "valid\n",
      "61234-567-8912-3456\n",
      "invalid\n",
      "4123356789123456\n",
      "valid\n",
      "5133-3367-8912-3456\n",
      "invalid\n",
      "5123 - 3567 - 8912 - 3456\n",
      "invalid\n"
     ]
    }
   ],
   "source": [
    "#validating credit card numbers\n",
    "\n",
    "import re\n",
    "for i in range (int(input())):\n",
    "    a= input().strip()\n",
    "    b=re.search(r'^[456]\\d{3}(-?)\\d{4}\\1\\d{4}\\1\\d{4}$',a)\n",
    "    if b:\n",
    "        processedstring = \"\".join(b.group(0).split('-'))\n",
    "        final_match = re.search(r'(\\d)\\1{3,}',processedstring)\n",
    "        if final_match :\n",
    "            print(\"invalid\")\n",
    "        else:\n",
    "            print(\"valid\")\n",
    "    else:\n",
    "        print(\"invalid\")"
   ]
  },
  {
   "cell_type": "code",
   "execution_count": 8,
   "metadata": {},
   "outputs": [
    {
     "name": "stdout",
     "output_type": "stream",
     "text": [
      "110000\n",
      "False\n"
     ]
    }
   ],
   "source": [
    "#validating postal codes\n",
    "\n",
    "import re\n",
    "a=input()\n",
    "print(bool(re.match(r'^[1-9][\\d]{5}$',a) and len(re.findall(r'(\\d)(?=\\d\\1)',a))<2))"
   ]
  },
  {
   "cell_type": "code",
   "execution_count": 10,
   "metadata": {},
   "outputs": [
    {
     "name": "stdout",
     "output_type": "stream",
     "text": [
      "7 3\n",
      "Tsi\n",
      "h%x\n",
      "i #\n",
      "sM\n",
      "$a\n",
      "#t%\n",
      "ir!\n",
      "Ti is ar t%!\n"
     ]
    }
   ],
   "source": [
    "#matrix script\n",
    "\n",
    "import math\n",
    "import os\n",
    "import random\n",
    "import re\n",
    "import sys\n",
    "\n",
    "firstmulinput = input().rstrip().split()\n",
    "\n",
    "n =int(firstmulinput[0])\n",
    "m =int(firstmulinput[1])\n",
    "matrix = []\n",
    "for i in range (n):\n",
    "    matrixitem = input()\n",
    "    matrix.append (matrixitem)\n",
    "    matrix =list(zip(*matrix))\n",
    "    sample =str()\n",
    "    for words  in matrix:\n",
    "        for char in words:\n",
    "            sample += char\n",
    "print(re.sub(r'(?<=\\w)([^\\w\\d]+)(?=\\w)',' ', sample))"
   ]
  },
  {
   "cell_type": "code",
   "execution_count": null,
   "metadata": {},
   "outputs": [],
   "source": []
  }
 ],
 "metadata": {
  "kernelspec": {
   "display_name": "Python 3",
   "language": "python",
   "name": "python3"
  },
  "language_info": {
   "codemirror_mode": {
    "name": "ipython",
    "version": 3
   },
   "file_extension": ".py",
   "mimetype": "text/x-python",
   "name": "python",
   "nbconvert_exporter": "python",
   "pygments_lexer": "ipython3",
   "version": "3.8.5"
  }
 },
 "nbformat": 4,
 "nbformat_minor": 4
}
