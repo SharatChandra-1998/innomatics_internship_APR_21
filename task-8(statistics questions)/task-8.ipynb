{
 "cells": [
  {
   "cell_type": "code",
   "execution_count": 2,
   "metadata": {},
   "outputs": [
    {
     "name": "stdout",
     "output_type": "stream",
     "text": [
      "1.09 1\n",
      "0.696\n"
     ]
    }
   ],
   "source": [
    "#binomial distribution\n",
    "def fact(n):\n",
    "    return 1 if n == 0 else n*fact(n-1)\n",
    "def com(n,m):\n",
    "    return fact(n)/(fact(m) * fact(n-m))\n",
    "def bi(m,n,a):\n",
    "    return com(n,m) * a**m * (1-a)**(n-m)\n",
    "t,s=list(map(float, input().split(\" \")))\n",
    "odds = t/s\n",
    "print(round(sum([b(i, 6, odds / (1+ odds)) for i in range(3,7)]), 3))"
   ]
  },
  {
   "cell_type": "code",
   "execution_count": 8,
   "metadata": {},
   "outputs": [
    {
     "name": "stdout",
     "output_type": "stream",
     "text": [
      "0.658\n",
      "0.721\n"
     ]
    }
   ],
   "source": [
    "#binomial distribution 2\n",
    "import math\n",
    "from functools import reduce\n",
    "import operator as op\n",
    "\n",
    "a = 0.12\n",
    "b = 10\n",
    "\n",
    "def bi(b,r):\n",
    "    r = min(r, b-r)\n",
    "    num=reduce(op.mul, range(b,b-r,-1), 1)\n",
    "    de=reduce(op.mul, range(1, r+1), 1)\n",
    "    return num // de\n",
    "\n",
    "result = 0\n",
    "\n",
    "for i in range(0,2):\n",
    "    result += bi(b,i)*a**i*(1-a)**(b-i)\n",
    "    \n",
    "print(round(result,3))\n",
    "result = 0\n",
    "for i in range(0,1):\n",
    "    result +=bi(b,i)*a**i*(1-a)**(b-i)\n",
    "    \n",
    "print(round(1-result,3))\n"
   ]
  },
  {
   "cell_type": "code",
   "execution_count": 15,
   "metadata": {},
   "outputs": [
    {
     "name": "stdout",
     "output_type": "stream",
     "text": [
      "0.401\n",
      "0.341\n"
     ]
    }
   ],
   "source": [
    "#normal distribution 1\n",
    "def nd(a, mean, std):\n",
    "    return 1/2*(1+math.erf((a-mean) / std / 2**(1/2)))\n",
    "\n",
    "mean = 20\n",
    "std = 2\n",
    "print(round(nd(19.5, mean, std), 3))\n",
    "\n",
    "print(round(nd(22, mean, std) - nd(20, mean, std),3))"
   ]
  },
  {
   "cell_type": "code",
   "execution_count": 3,
   "metadata": {},
   "outputs": [
    {
     "name": "stdout",
     "output_type": "stream",
     "text": [
      "15.87\n",
      "84.13\n",
      "15.87\n"
     ]
    }
   ],
   "source": [
    "# normal distribution 2\n",
    "def ndt(a, mean, std):\n",
    "    return 1/2*(1+math.erf((a-mean)/ std/ 2**(1/2)))\n",
    "\n",
    "mean=70\n",
    "std=10\n",
    "\n",
    "print(round((1 - ndt(80, mean, std))*100, 2))\n",
    "print(round((1 - ndt(60, mean, std))*100, 2))\n",
    "print(round(ndt(60, mean, std)*100, 2))"
   ]
  },
  {
   "cell_type": "code",
   "execution_count": 7,
   "metadata": {},
   "outputs": [
    {
     "name": "stdout",
     "output_type": "stream",
     "text": [
      "9800\n",
      "49\n",
      "205\n",
      "15\n",
      "0.0098\n"
     ]
    }
   ],
   "source": [
    "# day 6 the central limit theorem 1\n",
    "a=int(input())\n",
    "b=int(input())\n",
    "c=int(input())\n",
    "d=int(input())\n",
    "\n",
    "c_sum=n * mu\n",
    "d_sum= math.sqrt(b) * d\n",
    "\n",
    "def tcl(a, c, d):\n",
    "    f=(a - c)/d\n",
    "    return 0.5*(1 + math.erf(f/(math.sqrt(2))))\n",
    "\n",
    "print(round(tcl(a, c_sum, d_sum), 4))"
   ]
  },
  {
   "cell_type": "code",
   "execution_count": 10,
   "metadata": {},
   "outputs": [
    {
     "name": "stdout",
     "output_type": "stream",
     "text": [
      "250\n",
      "100\n",
      "2.4\n",
      "2.0\n",
      "0.6915\n"
     ]
    }
   ],
   "source": [
    "#day6 the central limit theorem 2\n",
    "\n",
    "def n_p(miu, stdev, x):\n",
    "    return 0.5 + 0.5*math.erf((x-miu)/(stdev * 2**0.5))\n",
    "\n",
    "t_l = float(input())\n",
    "n = int(input())\n",
    "[miu, stdev] = [float(input()) for i in range(2)]\n",
    "\n",
    "miu_s = n*miu\n",
    "stdev_s = (n**0.5)*stdev\n",
    "\n",
    "print('%.4f' %n_p(miu_s, stdev_s, t_l))"
   ]
  },
  {
   "cell_type": "code",
   "execution_count": 12,
   "metadata": {},
   "outputs": [
    {
     "name": "stdout",
     "output_type": "stream",
     "text": [
      "100\n",
      "500\n",
      "80\n",
      ".95\n",
      "1.96\n",
      "484.32\n",
      "515.68\n"
     ]
    }
   ],
   "source": [
    "#day6 the central limit theorem 3\n",
    "from math import sqrt\n",
    "\n",
    "a=int(input())\n",
    "mean = int(input())\n",
    "std=int(input())\n",
    "interval=float(input())\n",
    "b= float(input())\n",
    "print(round(mean - (std / sqrt(s)) * b, 2))\n",
    "print(round(mean + (std / sqrt(s)) * b, 2))"
   ]
  },
  {
   "cell_type": "code",
   "execution_count": 14,
   "metadata": {},
   "outputs": [
    {
     "name": "stdout",
     "output_type": "stream",
     "text": [
      "10\n",
      "10 9.8 8 7.8 7.7 7 6 5 4 2 \n",
      "200 44 32 24 22 17 15 12 8 4\n",
      "0.612\n"
     ]
    }
   ],
   "source": [
    "#Day 7: Pearson Correlation Coefficient I\n",
    "a = int(input())\n",
    "b = list(map(float,input().strip().split()))\n",
    "c = list(map(float,input().strip().split()))\n",
    "\n",
    "mu_b = sum(b) / a\n",
    "mu_c = sum(c) / a\n",
    "\n",
    "stdv_x = (sum([(i - mu_b)**2 for i in b]) / a)**0.5\n",
    "stdv_y = (sum([(i - mu_c)**2 for i in c]) / a)**0.5\n",
    "\n",
    "\n",
    "covariance = sum([(b[i] - mu_b) * (c[i] -mu_c) for i in range(a)])\n",
    "\n",
    "correlation_coefficient = covariance / (a * stdv_x * stdv_y)\n",
    "\n",
    "print(round(correlation_coefficient,3))"
   ]
  },
  {
   "cell_type": "code",
   "execution_count": 18,
   "metadata": {},
   "outputs": [
    {
     "name": "stdout",
     "output_type": "stream",
     "text": [
      "95 85\n",
      "85 95\n",
      "80 70\n",
      "70 65\n",
      "60 70\n",
      "78.288\n"
     ]
    }
   ],
   "source": [
    "#Day 8: Least Square Regression Line\n",
    "\n",
    "\n",
    "def mean(X):\n",
    "    \n",
    "    return sum(X)/len(X)\n",
    "\n",
    "def lsr(X, Y):\n",
    "   \n",
    "    B = sum([(X[i] - mean(X)) * (Y[i] - mean(Y)) for i in range(len(X))])/sum([(j - mean(X))**2 for j in X])\n",
    "    A = mean(Y) - (B*mean(X))\n",
    "    return A+(B*80)\n",
    "\n",
    "X = []\n",
    "Y = []\n",
    "\n",
    "for i in range(5):\n",
    "    A, B = list(map(int, input().split()))\n",
    "    X.append(A)\n",
    "    Y.append(B)\n",
    "\n",
    "print(round(lsr(X, Y), 3))"
   ]
  },
  {
   "cell_type": "code",
   "execution_count": 21,
   "metadata": {},
   "outputs": [
    {
     "name": "stdout",
     "output_type": "stream",
     "text": [
      "2 7\n",
      "0.18 0.89 109.85\n",
      "1.0 0.26 155.72\n",
      "0.92 0.11 137.66\n",
      "0.07 0.37 76.17\n",
      "0.85 0.16 139.75\n",
      "0.99 0.41 162.6\n",
      "0.87 0.47 151.77\n",
      "4\n",
      "0.49 0.18\n",
      "105.21\n",
      "0.57 0.83\n",
      "142.67\n",
      "0.56 0.64\n",
      "132.94\n",
      "0.76 0.18\n",
      "129.7\n"
     ]
    }
   ],
   "source": [
    "#Day 9: Multiple Linear Regression\n",
    "\n",
    "line1=list(map(int,input().split()))\n",
    "m=line1[0]\n",
    "n=line1[1]\n",
    "X=[]\n",
    "Y=[]\n",
    "for i in range(n):\n",
    "    line=list(map(float,input().split()))\n",
    "    X.append(line[:m])\n",
    "    Y.append(line[m])\n",
    " \n",
    "from sklearn import linear_model\n",
    "lm = linear_model.LinearRegression()\n",
    "lm.fit(X, Y)\n",
    " \n",
    "a = lm.intercept_\n",
    "b = lm.coef_\n",
    "#print a, b[0], b[1]\n",
    "import numpy as np\n",
    " \n",
    "n1=int(input())\n",
    " \n",
    " \n",
    "for j in range(n1):\n",
    "    line=list(map(float,input().split()))\n",
    "    y=a+np.dot(line,b) \n",
    "    print(round(y,2))"
   ]
  },
  {
   "cell_type": "code",
   "execution_count": null,
   "metadata": {},
   "outputs": [],
   "source": []
  }
 ],
 "metadata": {
  "kernelspec": {
   "display_name": "Python 3",
   "language": "python",
   "name": "python3"
  },
  "language_info": {
   "codemirror_mode": {
    "name": "ipython",
    "version": 3
   },
   "file_extension": ".py",
   "mimetype": "text/x-python",
   "name": "python",
   "nbconvert_exporter": "python",
   "pygments_lexer": "ipython3",
   "version": "3.8.5"
  }
 },
 "nbformat": 4,
 "nbformat_minor": 4
}
