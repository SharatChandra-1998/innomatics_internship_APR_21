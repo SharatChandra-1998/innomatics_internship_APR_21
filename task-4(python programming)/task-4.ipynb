{
 "cells": [
  {
   "cell_type": "code",
   "execution_count": 1,
   "metadata": {},
   "outputs": [
    {
     "name": "stdout",
     "output_type": "stream",
     "text": [
      "dfdfes\n",
      "DFDFES\n"
     ]
    }
   ],
   "source": [
    "#swap case\n",
    "\n",
    "import string\n",
    "\n",
    "lower=string.ascii_lowercase\n",
    "upper=string.ascii_uppercase\n",
    "s=input()\n",
    "t=[]\n",
    "for i in range(len(s)):\n",
    "    if s[i] in lower:\n",
    "        t.append(s[i].upper())\n",
    "    elif s[i] in upper:\n",
    "        t.append(s[i].lower())\n",
    "    else:\n",
    "        t.append(s[i])\n",
    "print(''.join(t))"
   ]
  },
  {
   "cell_type": "code",
   "execution_count": 2,
   "metadata": {},
   "outputs": [
    {
     "name": "stdout",
     "output_type": "stream",
     "text": [
      "kksks cefe\n",
      "kksks-cefe\n"
     ]
    }
   ],
   "source": [
    "#String split and join\n",
    "\n",
    "def splitandjoin(line):\n",
    "    a=line.split(\" \")\n",
    "    a=\"-\".join(a)\n",
    "    return a\n",
    "line=input()\n",
    "result=splitandjoin(line)\n",
    "print(result)"
   ]
  },
  {
   "cell_type": "code",
   "execution_count": 3,
   "metadata": {},
   "outputs": [
    {
     "name": "stdout",
     "output_type": "stream",
     "text": [
      "sharath \n",
      "chandra\n",
      "Hello sharath  chandra! You just deliverd into python\n"
     ]
    }
   ],
   "source": [
    "#What's your name\n",
    "\n",
    "firstname=input()\n",
    "lastname=input()\n",
    "print(\"Hello\",firstname, lastname + \"! You just deliverd into python\")"
   ]
  },
  {
   "cell_type": "code",
   "execution_count": 4,
   "metadata": {},
   "outputs": [
    {
     "name": "stdout",
     "output_type": "stream",
     "text": [
      "efrfrwfs\n",
      "5 k\n",
      "efrfrkfs\n"
     ]
    }
   ],
   "source": [
    "#mutations\n",
    "\n",
    "a=input()\n",
    "t=tuple(input().split(' '))\n",
    "a=a[:int(t[0])] + t[1] + a[int(t[0]) + 1:]\n",
    "print(a)"
   ]
  },
  {
   "cell_type": "code",
   "execution_count": 5,
   "metadata": {},
   "outputs": [
    {
     "name": "stdout",
     "output_type": "stream",
     "text": [
      "The first line contains a string, .\n",
      "string\n",
      "1\n"
     ]
    }
   ],
   "source": [
    "#find a string\n",
    "\n",
    "str=input()\n",
    "substr=input()\n",
    "count=0\n",
    "for i in range(len(str) - len(substr) + 1):\n",
    "    if str[i:i + len(substr)] == substr:\n",
    "        count +=1\n",
    "print(count)"
   ]
  },
  {
   "cell_type": "code",
   "execution_count": 6,
   "metadata": {},
   "outputs": [
    {
     "name": "stdout",
     "output_type": "stream",
     "text": [
      "qA2\n",
      "True\n",
      "True\n",
      "True\n",
      "True\n",
      "True\n"
     ]
    }
   ],
   "source": [
    "#string validators\n",
    "str=input()\n",
    "print (any(c.isalnum() for c in str))\n",
    "print (any(c.isalpha() for c in str))\n",
    "print (any(c.isdigit() for c in str))\n",
    "print (any(c.isupper() for c in str))\n",
    "print (any(c.islower() for c in str))\n"
   ]
  },
  {
   "cell_type": "code",
   "execution_count": 7,
   "metadata": {},
   "outputs": [
    {
     "name": "stdout",
     "output_type": "stream",
     "text": [
      "5\n",
      "    H    \n",
      "   HHH   \n",
      "  HHHHH  \n",
      " HHHHHHH \n",
      "HHHHHHHHH\n",
      "  HHHHH               HHHHH             \n",
      "  HHHHH               HHHHH             \n",
      "  HHHHH               HHHHH             \n",
      "  HHHHH               HHHHH             \n",
      "  HHHHH               HHHHH             \n",
      "  HHHHH               HHHHH             \n",
      "  HHHHHHHHHHHHHHHHHHHHHHHHH   \n",
      "  HHHHHHHHHHHHHHHHHHHHHHHHH   \n",
      "  HHHHHHHHHHHHHHHHHHHHHHHHH   \n",
      "  HHHHH               HHHHH             \n",
      "  HHHHH               HHHHH             \n",
      "  HHHHH               HHHHH             \n",
      "  HHHHH               HHHHH             \n",
      "  HHHHH               HHHHH             \n",
      "  HHHHH               HHHHH             \n",
      "                    HHHHHHHHH \n",
      "                     HHHHHHH  \n",
      "                      HHHHH   \n",
      "                       HHH    \n",
      "                        H     \n"
     ]
    }
   ],
   "source": [
    "#text Allignment\n",
    "\n",
    "\n",
    "thickness =int(input())\n",
    "c='H'\n",
    "for i in range(thickness):\n",
    "    print((c * i).rjust(thickness - 1) + c + (c * i).ljust(thickness -1))\n",
    "for i in range(thickness + 1):\n",
    "    print((c * thickness).center(thickness * 2) + (c * thickness).center(thickness * 6))\n",
    "for i in range((thickness + 1)//2):\n",
    "    print((c * thickness * 5).center(thickness * 6))\n",
    "for i in range(thickness + 1):\n",
    "    print((c * thickness).center(thickness * 2) + (c * thickness).center(thickness * 6))\n",
    "for i in range(thickness):\n",
    "    print(((c * (thickness - i - 1)).rjust(thickness) + c + (c * (thickness - i - 1)).ljust(thickness)).rjust(thickness * 6))\n",
    "        "
   ]
  },
  {
   "cell_type": "code",
   "execution_count": 9,
   "metadata": {},
   "outputs": [
    {
     "name": "stdout",
     "output_type": "stream",
     "text": [
      "abcdefghijklmnopqrstuvwxyz\n",
      "4\n",
      "abcd\n",
      "efgh\n",
      "ijkl\n",
      "mnop\n",
      "qrst\n",
      "uvwx\n",
      "yz\n"
     ]
    }
   ],
   "source": [
    "#text wrap\n",
    "\n",
    "import textwrap\n",
    "str=input()\n",
    "n=int(input())\n",
    "print(textwrap.fill(str, n))"
   ]
  },
  {
   "cell_type": "code",
   "execution_count": 10,
   "metadata": {},
   "outputs": [
    {
     "name": "stdout",
     "output_type": "stream",
     "text": [
      "7 21\n",
      "---------.|.---------\n",
      "------.|..|..|.------\n",
      "---.|..|..|..|..|.---\n",
      "-------WELCOME-------\n",
      "---.|..|..|..|..|.---\n",
      "------.|..|..|.------\n",
      "---------.|.---------\n"
     ]
    }
   ],
   "source": [
    "#designer door mat\n",
    "\n",
    "import math\n",
    "a, b=map(int, input().split())\n",
    "for i in range (0,math.floor(a/2)):\n",
    "    s='.|.'*i\n",
    "    print(s.rjust(math.floor((b-2)/2),'-')+'.|.'+('.|.'*i).ljust(math.floor((b-2)/2),'-'))\n",
    "print('WELCOME'.center(b,'-'))\n",
    "for i in reversed(range(0,math.floor(a/2))):\n",
    "    s='.|.'*i\n",
    "    print(s.rjust(math.floor((b-2)/2),'-')+'.|.'+('.|.'*i).ljust(math.floor((b-2)/2),'-'))"
   ]
  },
  {
   "cell_type": "code",
   "execution_count": 11,
   "metadata": {},
   "outputs": [
    {
     "name": "stdout",
     "output_type": "stream",
     "text": [
      "17\n",
      "    1     1     1     1\n",
      "    2     2     2    10\n",
      "    3     3     3    11\n",
      "    4     4     4   100\n",
      "    5     5     5   101\n",
      "    6     6     6   110\n",
      "    7     7     7   111\n",
      "    8    10     8  1000\n",
      "    9    11     9  1001\n",
      "   10    12     a  1010\n",
      "   11    13     b  1011\n",
      "   12    14     c  1100\n",
      "   13    15     d  1101\n",
      "   14    16     e  1110\n",
      "   15    17     f  1111\n",
      "   16    20    10 10000\n",
      "   17    21    11 10001\n"
     ]
    }
   ],
   "source": [
    "#string formating\n",
    "\n",
    "def str(number):\n",
    "    width=len(\"{0:b}\".format(number))\n",
    "    for i in range(1, number + 1):\n",
    "        print(\"{0:{w}d} {0:{w}o} {0:{w}x} {0:{w}b}\".format(i, w = width))\n",
    "if __name__ == '__main__':\n",
    "    n = int(input())\n",
    "    str(n)"
   ]
  },
  {
   "cell_type": "code",
   "execution_count": 16,
   "metadata": {},
   "outputs": [
    {
     "name": "stdout",
     "output_type": "stream",
     "text": [
      "5\n",
      "--------e--------\n",
      "------e-d-e------\n",
      "----e-d-c-d-e----\n",
      "--e-d-c-b-c-d-e--\n",
      "e-d-c-b-a-b-c-d-e\n",
      "--e-d-c-b-c-d-e--\n",
      "----e-d-c-d-e----\n",
      "------e-d-e------\n",
      "--------e--------\n"
     ]
    }
   ],
   "source": [
    "#alphabet rangoli\n",
    "\n",
    "n=int(input())\n",
    "for i in range(n):\n",
    "    s=\"-\".join(chr(ord('a')+n-j-1) for j in range(i+1))\n",
    "    print((s+s[::-1][1:]).center(n*4-3, '-'))\n",
    "    \n",
    "for i in range(n-1):\n",
    "    s='-'.join(chr(ord('a')+n-j-1) for j in range(n-i-1))\n",
    "    print((s+s[::-1][1:]).center(n*4-3,'-'))"
   ]
  },
  {
   "cell_type": "code",
   "execution_count": 2,
   "metadata": {},
   "outputs": [
    {
     "name": "stdout",
     "output_type": "stream",
     "text": [
      "hello world\n",
      "Hello world\n",
      "\n"
     ]
    }
   ],
   "source": [
    "#capitalized\n",
    "\n",
    "import os\n",
    "def solve(capital):\n",
    "    for x in capital[:].split():\n",
    "        capital =capital.replace(x, x.capitalize())\n",
    "        return capital\n",
    "capital=input()\n",
    "result=solve(capital)\n",
    "print(result + '\\n')"
   ]
  },
  {
   "cell_type": "code",
   "execution_count": 10,
   "metadata": {},
   "outputs": [
    {
     "name": "stdout",
     "output_type": "stream",
     "text": [
      "BANANA\n",
      "Draw\n"
     ]
    }
   ],
   "source": [
    "#the minion game\n",
    "\n",
    "a=input().strip()\n",
    "a_len=len(a)\n",
    "player1,player2=0,0\n",
    "for i in range(a_len):\n",
    "    if a[i] in \"AEIOU\":\n",
    "        player1 += a_len -i\n",
    "    else:\n",
    "        player2 += a_len - i\n",
    "if player1 > player2:\n",
    "    print(\"Kevin\", player1)\n",
    "elif player1 > player2:\n",
    "    print(\"Stuart\", player2)\n",
    "else:\n",
    "    print(\"Draw\")"
   ]
  },
  {
   "cell_type": "code",
   "execution_count": 15,
   "metadata": {},
   "outputs": [
    {
     "name": "stdout",
     "output_type": "stream",
     "text": [
      "AABCAAADA\n",
      "3\n",
      "AD\n"
     ]
    }
   ],
   "source": [
    "#merge the tools\n",
    "\n",
    "a= input()\n",
    "b= int(input())\n",
    "num=int(len(s)/b)\n",
    "for i in range(num):\n",
    "    t=a[i * b:(i + 1) * b]\n",
    "    u=\"\"\n",
    "    for c in t:\n",
    "        if c not in u:\n",
    "            u +=c\n",
    "print(u)"
   ]
  },
  {
   "cell_type": "code",
   "execution_count": null,
   "metadata": {},
   "outputs": [],
   "source": []
  }
 ],
 "metadata": {
  "kernelspec": {
   "display_name": "Python 3",
   "language": "python",
   "name": "python3"
  },
  "language_info": {
   "codemirror_mode": {
    "name": "ipython",
    "version": 3
   },
   "file_extension": ".py",
   "mimetype": "text/x-python",
   "name": "python",
   "nbconvert_exporter": "python",
   "pygments_lexer": "ipython3",
   "version": "3.8.5"
  }
 },
 "nbformat": 4,
 "nbformat_minor": 4
}
