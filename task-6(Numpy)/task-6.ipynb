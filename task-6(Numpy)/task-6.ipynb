{
 "cells": [
  {
   "cell_type": "code",
   "execution_count": 3,
   "metadata": {},
   "outputs": [
    {
     "name": "stdout",
     "output_type": "stream",
     "text": [
      "1 2 3 4 5 -8\n",
      "[-8.  5.  4.  3.  2.  1.]\n"
     ]
    }
   ],
   "source": [
    "#Arrays\n",
    "\n",
    "import numpy\n",
    "\n",
    "def array(arr):\n",
    "    a1=numpy.array(arr, dtype = float)\n",
    "    a2=numpy.array(arr[::-1], dtype = float)\n",
    "    return a2\n",
    "\n",
    "arr=input().strip().split(' ')\n",
    "result=array(arr)\n",
    "print(result)"
   ]
  },
  {
   "cell_type": "code",
   "execution_count": 7,
   "metadata": {},
   "outputs": [
    {
     "name": "stdout",
     "output_type": "stream",
     "text": [
      "1 2 3 4\n",
      "[[1 2]\n",
      " [3 4]]\n"
     ]
    }
   ],
   "source": [
    "#Shape and Reshape\n",
    "\n",
    "l=numpy.array(input().split(' '), int)\n",
    "print(l.reshape(2,2))"
   ]
  },
  {
   "cell_type": "code",
   "execution_count": 9,
   "metadata": {},
   "outputs": [
    {
     "name": "stdout",
     "output_type": "stream",
     "text": [
      " 2 2\n",
      "1 2\n",
      "3 4\n",
      "[[1 3]\n",
      " [2 4]]\n",
      "[1 2 3 4]\n"
     ]
    }
   ],
   "source": [
    "#transose and flatten\n",
    "\n",
    "a, b=map(int, input().split())\n",
    "storage =numpy.array([input().strip().split() for i in range(a)], int )\n",
    "print(storage.transpose())\n",
    "print(storage.flatten())"
   ]
  },
  {
   "cell_type": "code",
   "execution_count": 16,
   "metadata": {},
   "outputs": [
    {
     "name": "stdout",
     "output_type": "stream",
     "text": [
      "4 3 2\n",
      "1 2\n",
      "1 2\n",
      "1 2\n",
      "1 2\n",
      "3 4\n",
      "3 4\n",
      "3 4\n",
      "[[1 2]\n",
      " [1 2]\n",
      " [1 2]\n",
      " [1 2]\n",
      " [3 4]\n",
      " [3 4]\n",
      " [3 4]]\n"
     ]
    }
   ],
   "source": [
    "#concatinate\n",
    "\n",
    "import numpy\n",
    "\n",
    "a,b,c = map(int, input().split())\n",
    "n=[list(map(int,input().split())) for i in range(a)]\n",
    "m =[list(map(int,input().split())) for i in range(b)]\n",
    "k=numpy.array(n)\n",
    "p=numpy.array(m)\n",
    "\n",
    "print (numpy.concatenate((k,p),axis=0))"
   ]
  },
  {
   "cell_type": "code",
   "execution_count": 19,
   "metadata": {},
   "outputs": [
    {
     "name": "stdout",
     "output_type": "stream",
     "text": [
      "3 3 3\n",
      "[[[0 0 0]\n",
      "  [0 0 0]\n",
      "  [0 0 0]]\n",
      "\n",
      " [[0 0 0]\n",
      "  [0 0 0]\n",
      "  [0 0 0]]\n",
      "\n",
      " [[0 0 0]\n",
      "  [0 0 0]\n",
      "  [0 0 0]]]\n",
      "[[[1 1 1]\n",
      "  [1 1 1]\n",
      "  [1 1 1]]\n",
      "\n",
      " [[1 1 1]\n",
      "  [1 1 1]\n",
      "  [1 1 1]]\n",
      "\n",
      " [[1 1 1]\n",
      "  [1 1 1]\n",
      "  [1 1 1]]]\n"
     ]
    }
   ],
   "source": [
    "#zeros and ones\n",
    "\n",
    "import numpy\n",
    "\n",
    "size = tuple (map(int, input().strip().split()))\n",
    "print( numpy.zeros(size,int))\n",
    "print(numpy.ones(size, int))"
   ]
  },
  {
   "cell_type": "code",
   "execution_count": 25,
   "metadata": {},
   "outputs": [
    {
     "name": "stdout",
     "output_type": "stream",
     "text": [
      "3 3\n",
      "[[ 1.  0.  0.]\n",
      " [ 0.  1.  0.]\n",
      " [ 0.  0.  1.]]\n"
     ]
    }
   ],
   "source": [
    "#eye and identity\n",
    "\n",
    "import numpy\n",
    "numpy.set_printoptions(sign=' ')\n",
    "\n",
    "a,b=map(int, input().split())\n",
    "eye=numpy.eye(a,b)\n",
    "print(eye)"
   ]
  },
  {
   "cell_type": "code",
   "execution_count": 26,
   "metadata": {},
   "outputs": [
    {
     "name": "stdout",
     "output_type": "stream",
     "text": [
      "1 4\n",
      "1 2 3 4\n",
      "5 6 7 8\n",
      "[[ 6  8 10 12]]\n",
      "[[-4 -4 -4 -4]]\n",
      "[[ 5 12 21 32]]\n",
      "[[0 0 0 0]]\n",
      "[[1 2 3 4]]\n",
      "[[    1    64  2187 65536]]\n"
     ]
    }
   ],
   "source": [
    "#array mathematics \n",
    "\n",
    "import numpy\n",
    "def arrays(arr, arr1, arr2):\n",
    "    arr = numpy.array(arr, dtype = int)\n",
    "    arr1 = numpy.array([arr1], dtype = int)\n",
    "    arr2 = numpy.array([arr2], dtype = int)\n",
    "\n",
    "    add = numpy.add(arr1,arr2)\n",
    "    sub = numpy.subtract(arr1, arr2)\n",
    "    mul = numpy.multiply(arr1, arr2)\n",
    "    div = numpy.floor_divide(arr1, arr2)\n",
    "    mod = numpy.mod(arr1, arr2)\n",
    "    power = numpy.power(arr1, arr2)\n",
    "    return add,sub,mul,div,mod,power\n",
    "\n",
    "arr = input().strip().split(' ')\n",
    "\n",
    "arr1 = input().strip().split(' ')\n",
    "arr2 = input().strip().split(' ')\n",
    "add,sub,mul,div,mod,power = arrays(arr, arr1, arr2)\n",
    "print(add)\n",
    "print(sub)\n",
    "print(mul)\n",
    "print(div)\n",
    "print(mod)\n",
    "print(power)"
   ]
  },
  {
   "cell_type": "code",
   "execution_count": 1,
   "metadata": {},
   "outputs": [
    {
     "name": "stdout",
     "output_type": "stream",
     "text": [
      "1.1 2.2 3.3 4.4 5.5 6.6 7.7 8.8 9.9\n",
      "[1. 2. 3. 4. 5. 6. 7. 8. 9.]\n",
      "[ 2.  3.  4.  5.  6.  7.  8.  9. 10.]\n",
      "[ 1.  2.  3.  4.  6.  7.  8.  9. 10.]\n"
     ]
    }
   ],
   "source": [
    "#floor, ceil and rint\n",
    "\n",
    "import numpy\n",
    "\n",
    "fcr=numpy.array(input().split(), float)\n",
    "print(numpy.floor(fcr))\n",
    "print(numpy.ceil(fcr))\n",
    "print(numpy.rint(fcr))"
   ]
  },
  {
   "cell_type": "code",
   "execution_count": 10,
   "metadata": {},
   "outputs": [
    {
     "name": "stdout",
     "output_type": "stream",
     "text": [
      "2 2\n",
      "1 2\n",
      "3 4\n",
      "24\n"
     ]
    }
   ],
   "source": [
    "#sum and prod\n",
    "\n",
    "import numpy\n",
    "\n",
    "a,b=map(int, input().split())\n",
    "arr = numpy.array([input().split() for i in range(a)], int)\n",
    "print(numpy.prod(numpy.sum(array,axis=0),axis = None))"
   ]
  },
  {
   "cell_type": "code",
   "execution_count": 11,
   "metadata": {},
   "outputs": [
    {
     "name": "stdout",
     "output_type": "stream",
     "text": [
      "4 2\n",
      "2 5\n",
      "3 7\n",
      "1 3\n",
      "4 0\n",
      "3\n"
     ]
    }
   ],
   "source": [
    "#min and max\n",
    "\n",
    "a,b=map(int,input().split())\n",
    "mm=numpy.array([input().split() for i in range(a)],dtype = int)\n",
    "print(numpy.max(numpy.min(mm, axis=1),axis=0))"
   ]
  },
  {
   "cell_type": "code",
   "execution_count": 14,
   "metadata": {},
   "outputs": [
    {
     "name": "stdout",
     "output_type": "stream",
     "text": [
      "2 2\n",
      "1 2\n",
      "3 4\n",
      "[1.5 3.5]\n",
      "[1. 1.]\n",
      "1.11803398875\n"
     ]
    }
   ],
   "source": [
    "#mean, var and std\n",
    "\n",
    "a,b=map(int,input().split(\" \"))\n",
    "mvs=numpy.array([input().split() for i in range(a)], int)\n",
    "print(numpy.mean(mvs, axis =1))\n",
    "print(numpy.var(mvs, axis = 0))\n",
    "print(round(numpy.std(mvs, axis = None),11))"
   ]
  },
  {
   "cell_type": "code",
   "execution_count": 15,
   "metadata": {},
   "outputs": [
    {
     "name": "stdout",
     "output_type": "stream",
     "text": [
      "2\n",
      "1 2\n",
      "3 4\n",
      "1 2\n",
      "3 4\n",
      "[[ 7 10]\n",
      " [15 22]]\n"
     ]
    }
   ],
   "source": [
    "#dot and cross\n",
    "\n",
    "import numpy\n",
    "\n",
    "dc= int(input())\n",
    "a=numpy.array([input().split() for i in range(dc)], int)\n",
    "b=numpy.array([input().split() for i in range(dc)], int)\n",
    "print(numpy.dot(a,b))"
   ]
  },
  {
   "cell_type": "code",
   "execution_count": 16,
   "metadata": {},
   "outputs": [
    {
     "name": "stdout",
     "output_type": "stream",
     "text": [
      "0 1\n",
      "2 3\n",
      "3\n",
      "[[0 0]\n",
      " [2 3]]\n"
     ]
    }
   ],
   "source": [
    "#inner and outer\n",
    "\n",
    "i = numpy.array(input().split(), int)\n",
    "o = numpy.array(input().split(), int)\n",
    "\n",
    "print(numpy.inner(i,o))\n",
    "print(numpy.outer(i,o))"
   ]
  },
  {
   "cell_type": "code",
   "execution_count": 17,
   "metadata": {},
   "outputs": [
    {
     "name": "stdout",
     "output_type": "stream",
     "text": [
      "1.1 2 3\n",
      "0\n",
      "3.0\n"
     ]
    }
   ],
   "source": [
    "#polynomials\n",
    "\n",
    "print(numpy.polyval(numpy.array(input().split(),float),int (input())))"
   ]
  },
  {
   "cell_type": "code",
   "execution_count": 18,
   "metadata": {},
   "outputs": [
    {
     "name": "stdout",
     "output_type": "stream",
     "text": [
      "2\n",
      "1.1 1.1\n",
      "1.1 1.1\n",
      "0.0\n"
     ]
    }
   ],
   "source": [
    "#linear algebra\n",
    "\n",
    "print(round(numpy.linalg.det(numpy.array([input().split() for i in range(int(input()))], float)),2))"
   ]
  },
  {
   "cell_type": "code",
   "execution_count": null,
   "metadata": {},
   "outputs": [],
   "source": []
  }
 ],
 "metadata": {
  "kernelspec": {
   "display_name": "Python 3",
   "language": "python",
   "name": "python3"
  },
  "language_info": {
   "codemirror_mode": {
    "name": "ipython",
    "version": 3
   },
   "file_extension": ".py",
   "mimetype": "text/x-python",
   "name": "python",
   "nbconvert_exporter": "python",
   "pygments_lexer": "ipython3",
   "version": "3.8.5"
  }
 },
 "nbformat": 4,
 "nbformat_minor": 4
}
